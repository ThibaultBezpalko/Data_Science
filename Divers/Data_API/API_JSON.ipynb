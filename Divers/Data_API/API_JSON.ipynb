{
 "cells": [
  {
   "cell_type": "markdown",
   "metadata": {},
   "source": [
    "# Récupération de données depuis un fichier json"
   ]
  },
  {
   "cell_type": "markdown",
   "metadata": {},
   "source": [
    "On cherche à récupérer les données de niveau de la mer dans certaines régions Australiennes, depuis un site internet Australien gouvernemental."
   ]
  },
  {
   "cell_type": "code",
   "execution_count": 1,
   "metadata": {},
   "outputs": [],
   "source": [
    "from urllib.request import urlopen\n",
    "import json"
   ]
  },
  {
   "cell_type": "code",
   "execution_count": 2,
   "metadata": {},
   "outputs": [
    {
     "name": "stdout",
     "output_type": "stream",
     "text": [
      "{\"help\": \"https://www.data.qld.gov.au/api/3/action/help_show?name=datastore_search\", \"success\": true, \"result\": {\"include_total\": true, \"resource_id\": \"7afe7233-fae0-4024-bc98-3a72f05675bd\", \"fields\": [{\"type\": \"int\", \"id\": \"_id\"}, {\"type\": \"text\", \"id\": \"Site\"}, {\"type\": \"numeric\", \"id\": \"Seconds\"}, {\"type\": \"timestamp\", \"id\": \"DateTime\"}, {\"type\": \"numeric\", \"id\": \"Water Level\"}, {\"type\": \"numeric\", \"id\": \"Prediction\"}, {\"type\": \"numeric\", \"id\": \"Residual\"}, {\"type\": \"numeric\", \"id\": \"Latitude\"}, {\"type\": \"numeric\", \"id\": \"Longitude\"}], \"records_format\": \"objects\", \"records\": [{\"_id\": 1, \"Site\": \"abellpoint\", \"Seconds\": 1566828000, \"DateTime\": \"2019-08-27T00:00:00\", \"Water Level\": 1.427, \"Prediction\": 1.273, \"Residual\": 0.154, \"Latitude\": -20.2608, \"Longitude\": 148.7103}, {\"_id\": 2, \"Site\": \"abellpoint\", \"Seconds\": 1566828600, \"DateTime\": \"2019-08-27T00:10:00\", \"Water Level\": 1.317, \"Prediction\": 1.191, \"Residual\": 0.126, \"Latitude\": -20.2608, \"Longitude\": 148.7103}, {\"_id\": 3, \"Site\": \"abellpoint\", \"Seconds\": 1566829200, \"DateTime\": \"2019-08-27T00:20:00\", \"Water Level\": 1.245, \"Prediction\": 1.116, \"Residual\": 0.129, \"Latitude\": -20.2608, \"Longitude\": 148.7103}, {\"_id\": 4, \"Site\": \"abellpoint\", \"Seconds\": 1566829800, \"DateTime\": \"2019-08-27T00:30:00\", \"Water Level\": 1.17, \"Prediction\": 1.046, \"Residual\": 0.124, \"Latitude\": -20.2608, \"Longitude\": 148.7103}, {\"_id\": 5, \"Site\": \"abellpoint\", \"Seconds\": 1566830400, \"DateTime\": \"2019-08-27T00:40:00\", \"Water Level\": 1.116, \"Prediction\": 0.983, \"Residual\": 0.133, \"Latitude\": -20.2608, \"Longitude\": 148.7103}, {\"_id\": 6, \"Site\": \"abellpoint\", \"Seconds\": 1566831000, \"DateTime\": \"2019-08-27T00:50:00\", \"Water Level\": 1.062, \"Prediction\": 0.927, \"Residual\": 0.135, \"Latitude\": -20.2608, \"Longitude\": 148.7103}, {\"_id\": 7, \"Site\": \"abellpoint\", \"Seconds\": 1566831600, \"DateTime\": \"2019-08-27T01:00:00\", \"Water Level\": 1.021, \"Prediction\": 0.877, \"Residual\": 0.144, \"Latitude\": -20.2608, \"Longitude\": 148.7103}, {\"_id\": 8, \"Site\": \"abellpoint\", \"Seconds\": 1566832200, \"DateTime\": \"2019-08-27T01:10:00\", \"Water Level\": 0.963, \"Prediction\": 0.833, \"Residual\": 0.13, \"Latitude\": -20.2608, \"Longitude\": 148.7103}, {\"_id\": 9, \"Site\": \"abellpoint\", \"Seconds\": 1566832800, \"DateTime\": \"2019-08-27T01:20:00\", \"Water Level\": 0.904, \"Prediction\": 0.796, \"Residual\": 0.108, \"Latitude\": -20.2608, \"Longitude\": 148.7103}, {\"_id\": 10, \"Site\": \"abellpoint\", \"Seconds\": 1566833400, \"DateTime\": \"2019-08-27T01:30:00\", \"Water Level\": 0.861, \"Prediction\": 0.765, \"Residual\": 0.096, \"Latitude\": -20.2608, \"Longitude\": 148.7103}], \"limit\": 10, \"_links\": {\"start\": \"/api/3/action/datastore_search?limit=10&resource_id=7afe7233-fae0-4024-bc98-3a72f05675bd\", \"next\": \"/api/3/action/datastore_search?offset=10&limit=10&resource_id=7afe7233-fae0-4024-bc98-3a72f05675bd\"}, \"total\": 25750}}\n"
     ]
    }
   ],
   "source": [
    "url = 'https://data.qld.gov.au/api/3/action/datastore_search?resource_id=7afe7233-fae0-4024-bc98-3a72f05675bd&limit=10'\n",
    "url_result = urlopen(url)\n",
    "raw_data = url_result.read()\n",
    "json_data = json.loads(raw_data)\n",
    "json_string = json.dumps(json_data)\n",
    "\n",
    "print(json_string)"
   ]
  },
  {
   "cell_type": "code",
   "execution_count": 3,
   "metadata": {},
   "outputs": [
    {
     "name": "stdout",
     "output_type": "stream",
     "text": [
      "{'include_total': True, 'resource_id': '7afe7233-fae0-4024-bc98-3a72f05675bd', 'fields': [{'type': 'int', 'id': '_id'}, {'type': 'text', 'id': 'Site'}, {'type': 'numeric', 'id': 'Seconds'}, {'type': 'timestamp', 'id': 'DateTime'}, {'type': 'numeric', 'id': 'Water Level'}, {'type': 'numeric', 'id': 'Prediction'}, {'type': 'numeric', 'id': 'Residual'}, {'type': 'numeric', 'id': 'Latitude'}, {'type': 'numeric', 'id': 'Longitude'}], 'records_format': 'objects', 'records': [{'_id': 1, 'Site': 'abellpoint', 'Seconds': 1566828000, 'DateTime': '2019-08-27T00:00:00', 'Water Level': 1.427, 'Prediction': 1.273, 'Residual': 0.154, 'Latitude': -20.2608, 'Longitude': 148.7103}, {'_id': 2, 'Site': 'abellpoint', 'Seconds': 1566828600, 'DateTime': '2019-08-27T00:10:00', 'Water Level': 1.317, 'Prediction': 1.191, 'Residual': 0.126, 'Latitude': -20.2608, 'Longitude': 148.7103}, {'_id': 3, 'Site': 'abellpoint', 'Seconds': 1566829200, 'DateTime': '2019-08-27T00:20:00', 'Water Level': 1.245, 'Prediction': 1.116, 'Residual': 0.129, 'Latitude': -20.2608, 'Longitude': 148.7103}, {'_id': 4, 'Site': 'abellpoint', 'Seconds': 1566829800, 'DateTime': '2019-08-27T00:30:00', 'Water Level': 1.17, 'Prediction': 1.046, 'Residual': 0.124, 'Latitude': -20.2608, 'Longitude': 148.7103}, {'_id': 5, 'Site': 'abellpoint', 'Seconds': 1566830400, 'DateTime': '2019-08-27T00:40:00', 'Water Level': 1.116, 'Prediction': 0.983, 'Residual': 0.133, 'Latitude': -20.2608, 'Longitude': 148.7103}, {'_id': 6, 'Site': 'abellpoint', 'Seconds': 1566831000, 'DateTime': '2019-08-27T00:50:00', 'Water Level': 1.062, 'Prediction': 0.927, 'Residual': 0.135, 'Latitude': -20.2608, 'Longitude': 148.7103}, {'_id': 7, 'Site': 'abellpoint', 'Seconds': 1566831600, 'DateTime': '2019-08-27T01:00:00', 'Water Level': 1.021, 'Prediction': 0.877, 'Residual': 0.144, 'Latitude': -20.2608, 'Longitude': 148.7103}, {'_id': 8, 'Site': 'abellpoint', 'Seconds': 1566832200, 'DateTime': '2019-08-27T01:10:00', 'Water Level': 0.963, 'Prediction': 0.833, 'Residual': 0.13, 'Latitude': -20.2608, 'Longitude': 148.7103}, {'_id': 9, 'Site': 'abellpoint', 'Seconds': 1566832800, 'DateTime': '2019-08-27T01:20:00', 'Water Level': 0.904, 'Prediction': 0.796, 'Residual': 0.108, 'Latitude': -20.2608, 'Longitude': 148.7103}, {'_id': 10, 'Site': 'abellpoint', 'Seconds': 1566833400, 'DateTime': '2019-08-27T01:30:00', 'Water Level': 0.861, 'Prediction': 0.765, 'Residual': 0.096, 'Latitude': -20.2608, 'Longitude': 148.7103}], 'limit': 10, '_links': {'start': '/api/3/action/datastore_search?limit=10&resource_id=7afe7233-fae0-4024-bc98-3a72f05675bd', 'next': '/api/3/action/datastore_search?offset=10&limit=10&resource_id=7afe7233-fae0-4024-bc98-3a72f05675bd'}, 'total': 25750}\n"
     ]
    }
   ],
   "source": [
    "result = json_data['result']\n",
    "print(result)"
   ]
  },
  {
   "cell_type": "code",
   "execution_count": 4,
   "metadata": {},
   "outputs": [
    {
     "name": "stdout",
     "output_type": "stream",
     "text": [
      "[{'_id': 1, 'Site': 'abellpoint', 'Seconds': 1566828000, 'DateTime': '2019-08-27T00:00:00', 'Water Level': 1.427, 'Prediction': 1.273, 'Residual': 0.154, 'Latitude': -20.2608, 'Longitude': 148.7103}, {'_id': 2, 'Site': 'abellpoint', 'Seconds': 1566828600, 'DateTime': '2019-08-27T00:10:00', 'Water Level': 1.317, 'Prediction': 1.191, 'Residual': 0.126, 'Latitude': -20.2608, 'Longitude': 148.7103}, {'_id': 3, 'Site': 'abellpoint', 'Seconds': 1566829200, 'DateTime': '2019-08-27T00:20:00', 'Water Level': 1.245, 'Prediction': 1.116, 'Residual': 0.129, 'Latitude': -20.2608, 'Longitude': 148.7103}, {'_id': 4, 'Site': 'abellpoint', 'Seconds': 1566829800, 'DateTime': '2019-08-27T00:30:00', 'Water Level': 1.17, 'Prediction': 1.046, 'Residual': 0.124, 'Latitude': -20.2608, 'Longitude': 148.7103}, {'_id': 5, 'Site': 'abellpoint', 'Seconds': 1566830400, 'DateTime': '2019-08-27T00:40:00', 'Water Level': 1.116, 'Prediction': 0.983, 'Residual': 0.133, 'Latitude': -20.2608, 'Longitude': 148.7103}, {'_id': 6, 'Site': 'abellpoint', 'Seconds': 1566831000, 'DateTime': '2019-08-27T00:50:00', 'Water Level': 1.062, 'Prediction': 0.927, 'Residual': 0.135, 'Latitude': -20.2608, 'Longitude': 148.7103}, {'_id': 7, 'Site': 'abellpoint', 'Seconds': 1566831600, 'DateTime': '2019-08-27T01:00:00', 'Water Level': 1.021, 'Prediction': 0.877, 'Residual': 0.144, 'Latitude': -20.2608, 'Longitude': 148.7103}, {'_id': 8, 'Site': 'abellpoint', 'Seconds': 1566832200, 'DateTime': '2019-08-27T01:10:00', 'Water Level': 0.963, 'Prediction': 0.833, 'Residual': 0.13, 'Latitude': -20.2608, 'Longitude': 148.7103}, {'_id': 9, 'Site': 'abellpoint', 'Seconds': 1566832800, 'DateTime': '2019-08-27T01:20:00', 'Water Level': 0.904, 'Prediction': 0.796, 'Residual': 0.108, 'Latitude': -20.2608, 'Longitude': 148.7103}, {'_id': 10, 'Site': 'abellpoint', 'Seconds': 1566833400, 'DateTime': '2019-08-27T01:30:00', 'Water Level': 0.861, 'Prediction': 0.765, 'Residual': 0.096, 'Latitude': -20.2608, 'Longitude': 148.7103}]\n"
     ]
    }
   ],
   "source": [
    "records = result['records']\n",
    "print(records)"
   ]
  },
  {
   "cell_type": "code",
   "execution_count": 5,
   "metadata": {},
   "outputs": [
    {
     "name": "stdout",
     "output_type": "stream",
     "text": [
      "abellpoint\n",
      "2019-08-27T00:00:00\n",
      "1.427\n",
      "1.273\n",
      "0.154\n"
     ]
    }
   ],
   "source": [
    "first_record = records[0]\n",
    "print(first_record['Site'])\n",
    "print(first_record['DateTime'])\n",
    "print(first_record['Water Level'])\n",
    "print(first_record['Prediction'])\n",
    "print(first_record['Residual'])"
   ]
  },
  {
   "cell_type": "code",
   "execution_count": 6,
   "metadata": {},
   "outputs": [
    {
     "name": "stdout",
     "output_type": "stream",
     "text": [
      "[['abellpoint', '2019-08-27T00:00:00', 1.427, 1.273, 0.154], ['abellpoint', '2019-08-27T00:10:00', 1.317, 1.191, 0.126], ['abellpoint', '2019-08-27T00:20:00', 1.245, 1.116, 0.129], ['abellpoint', '2019-08-27T00:30:00', 1.17, 1.046, 0.124], ['abellpoint', '2019-08-27T00:40:00', 1.116, 0.983, 0.133], ['abellpoint', '2019-08-27T00:50:00', 1.062, 0.927, 0.135], ['abellpoint', '2019-08-27T01:00:00', 1.021, 0.877, 0.144], ['abellpoint', '2019-08-27T01:10:00', 0.963, 0.833, 0.13], ['abellpoint', '2019-08-27T01:20:00', 0.904, 0.796, 0.108], ['abellpoint', '2019-08-27T01:30:00', 0.861, 0.765, 0.096]]\n"
     ]
    }
   ],
   "source": [
    "records_data = []\n",
    "for record in records:\n",
    "    record_data = [\n",
    "        record['Site'],\n",
    "        record['DateTime'],\n",
    "        record['Water Level'],\n",
    "        record['Prediction'],\n",
    "        record['Residual']\n",
    "    ]\n",
    "    records_data.append(record_data)\n",
    "print(records_data)"
   ]
  },
  {
   "cell_type": "code",
   "execution_count": 7,
   "metadata": {},
   "outputs": [],
   "source": [
    "filename = 'Storm Tide Data.csv'\n",
    "with open(filename, 'w', encoding='utf-8') as f:\n",
    "    \n",
    "    headers = 'Site, DateTime, Water Level, Prediction, Residual\\n'\n",
    "    f.write(headers)\n",
    "\n",
    "    for record in records:\n",
    "        row_string = ''\n",
    "        row_string += record['Site'] + ','\n",
    "        row_string += record['DateTime'] + ','\n",
    "        row_string += str(record['Water Level']) + ','\n",
    "        row_string += str(record['Prediction']) + ','\n",
    "        row_string += str(record['Residual']) + '\\n'\n",
    "        f.write(row_string)"
   ]
  },
  {
   "cell_type": "code",
   "execution_count": null,
   "metadata": {},
   "outputs": [],
   "source": []
  }
 ],
 "metadata": {
  "kernelspec": {
   "display_name": "Python 3",
   "language": "python",
   "name": "python3"
  },
  "language_info": {
   "codemirror_mode": {
    "name": "ipython",
    "version": 3
   },
   "file_extension": ".py",
   "mimetype": "text/x-python",
   "name": "python",
   "nbconvert_exporter": "python",
   "pygments_lexer": "ipython3",
   "version": "3.7.3"
  }
 },
 "nbformat": 4,
 "nbformat_minor": 2
}
