{
 "cells": [
  {
   "cell_type": "markdown",
   "metadata": {},
   "source": [
    "# Evaluation de la qualité de vins rouges"
   ]
  },
  {
   "cell_type": "raw",
   "metadata": {},
   "source": [
    "On cherche à évaluer la qualité de vins rouges.\n",
    "On utilise un algorithme de kNN (régression) avec une recherche sur grille et une validation croisée implémentées manuellement, que l'on compare ensuite aux fonctions de scikit-learn. On évalue les performances des modèles de régression à l'aide de l'erreur quadratique et du coefficient de corrélation."
   ]
  },
  {
   "cell_type": "code",
   "execution_count": 1,
   "metadata": {},
   "outputs": [],
   "source": [
    "import numpy as np\n",
    "import pandas as pd\n",
    "import matplotlib.pyplot as plt\n",
    "\n",
    "data = pd.read_csv('winequality-red.csv', sep=\";\")"
   ]
  },
  {
   "cell_type": "code",
   "execution_count": 2,
   "metadata": {},
   "outputs": [
    {
     "data": {
      "text/html": [
       "<div>\n",
       "<style scoped>\n",
       "    .dataframe tbody tr th:only-of-type {\n",
       "        vertical-align: middle;\n",
       "    }\n",
       "\n",
       "    .dataframe tbody tr th {\n",
       "        vertical-align: top;\n",
       "    }\n",
       "\n",
       "    .dataframe thead th {\n",
       "        text-align: right;\n",
       "    }\n",
       "</style>\n",
       "<table border=\"1\" class=\"dataframe\">\n",
       "  <thead>\n",
       "    <tr style=\"text-align: right;\">\n",
       "      <th></th>\n",
       "      <th>fixed acidity</th>\n",
       "      <th>volatile acidity</th>\n",
       "      <th>citric acid</th>\n",
       "      <th>residual sugar</th>\n",
       "      <th>chlorides</th>\n",
       "      <th>free sulfur dioxide</th>\n",
       "      <th>total sulfur dioxide</th>\n",
       "      <th>density</th>\n",
       "      <th>pH</th>\n",
       "      <th>sulphates</th>\n",
       "      <th>alcohol</th>\n",
       "      <th>quality</th>\n",
       "    </tr>\n",
       "  </thead>\n",
       "  <tbody>\n",
       "    <tr>\n",
       "      <th>0</th>\n",
       "      <td>7.4</td>\n",
       "      <td>0.70</td>\n",
       "      <td>0.00</td>\n",
       "      <td>1.9</td>\n",
       "      <td>0.076</td>\n",
       "      <td>11.0</td>\n",
       "      <td>34.0</td>\n",
       "      <td>0.9978</td>\n",
       "      <td>3.51</td>\n",
       "      <td>0.56</td>\n",
       "      <td>9.4</td>\n",
       "      <td>5</td>\n",
       "    </tr>\n",
       "    <tr>\n",
       "      <th>1</th>\n",
       "      <td>7.8</td>\n",
       "      <td>0.88</td>\n",
       "      <td>0.00</td>\n",
       "      <td>2.6</td>\n",
       "      <td>0.098</td>\n",
       "      <td>25.0</td>\n",
       "      <td>67.0</td>\n",
       "      <td>0.9968</td>\n",
       "      <td>3.20</td>\n",
       "      <td>0.68</td>\n",
       "      <td>9.8</td>\n",
       "      <td>5</td>\n",
       "    </tr>\n",
       "    <tr>\n",
       "      <th>2</th>\n",
       "      <td>7.8</td>\n",
       "      <td>0.76</td>\n",
       "      <td>0.04</td>\n",
       "      <td>2.3</td>\n",
       "      <td>0.092</td>\n",
       "      <td>15.0</td>\n",
       "      <td>54.0</td>\n",
       "      <td>0.9970</td>\n",
       "      <td>3.26</td>\n",
       "      <td>0.65</td>\n",
       "      <td>9.8</td>\n",
       "      <td>5</td>\n",
       "    </tr>\n",
       "    <tr>\n",
       "      <th>3</th>\n",
       "      <td>11.2</td>\n",
       "      <td>0.28</td>\n",
       "      <td>0.56</td>\n",
       "      <td>1.9</td>\n",
       "      <td>0.075</td>\n",
       "      <td>17.0</td>\n",
       "      <td>60.0</td>\n",
       "      <td>0.9980</td>\n",
       "      <td>3.16</td>\n",
       "      <td>0.58</td>\n",
       "      <td>9.8</td>\n",
       "      <td>6</td>\n",
       "    </tr>\n",
       "    <tr>\n",
       "      <th>4</th>\n",
       "      <td>7.4</td>\n",
       "      <td>0.70</td>\n",
       "      <td>0.00</td>\n",
       "      <td>1.9</td>\n",
       "      <td>0.076</td>\n",
       "      <td>11.0</td>\n",
       "      <td>34.0</td>\n",
       "      <td>0.9978</td>\n",
       "      <td>3.51</td>\n",
       "      <td>0.56</td>\n",
       "      <td>9.4</td>\n",
       "      <td>5</td>\n",
       "    </tr>\n",
       "  </tbody>\n",
       "</table>\n",
       "</div>"
      ],
      "text/plain": [
       "   fixed acidity  volatile acidity  citric acid  residual sugar  chlorides  \\\n",
       "0            7.4              0.70         0.00             1.9      0.076   \n",
       "1            7.8              0.88         0.00             2.6      0.098   \n",
       "2            7.8              0.76         0.04             2.3      0.092   \n",
       "3           11.2              0.28         0.56             1.9      0.075   \n",
       "4            7.4              0.70         0.00             1.9      0.076   \n",
       "\n",
       "   free sulfur dioxide  total sulfur dioxide  density    pH  sulphates  \\\n",
       "0                 11.0                  34.0   0.9978  3.51       0.56   \n",
       "1                 25.0                  67.0   0.9968  3.20       0.68   \n",
       "2                 15.0                  54.0   0.9970  3.26       0.65   \n",
       "3                 17.0                  60.0   0.9980  3.16       0.58   \n",
       "4                 11.0                  34.0   0.9978  3.51       0.56   \n",
       "\n",
       "   alcohol  quality  \n",
       "0      9.4        5  \n",
       "1      9.8        5  \n",
       "2      9.8        5  \n",
       "3      9.8        6  \n",
       "4      9.4        5  "
      ]
     },
     "execution_count": 2,
     "metadata": {},
     "output_type": "execute_result"
    }
   ],
   "source": [
    "# Visualisation des données\n",
    "data.head()"
   ]
  },
  {
   "cell_type": "code",
   "execution_count": 3,
   "metadata": {},
   "outputs": [
    {
     "name": "stderr",
     "output_type": "stream",
     "text": [
      "C:\\ProgramData\\Anaconda3\\lib\\site-packages\\ipykernel_launcher.py:2: FutureWarning: Method .as_matrix will be removed in a future version. Use .values instead.\n",
      "  \n",
      "C:\\ProgramData\\Anaconda3\\lib\\site-packages\\ipykernel_launcher.py:3: FutureWarning: Method .as_matrix will be removed in a future version. Use .values instead.\n",
      "  This is separate from the ipykernel package so we can avoid doing imports until\n"
     ]
    }
   ],
   "source": [
    "# Extraction des données\n",
    "X = data.as_matrix(data.columns[:-1])\n",
    "y = data.as_matrix([data.columns[-1]])\n",
    "y = y.flatten()"
   ]
  },
  {
   "cell_type": "code",
   "execution_count": 4,
   "metadata": {},
   "outputs": [
    {
     "data": {
      "text/plain": [
       "(1599, 11)"
      ]
     },
     "execution_count": 4,
     "metadata": {},
     "output_type": "execute_result"
    }
   ],
   "source": [
    "X.shape"
   ]
  },
  {
   "cell_type": "code",
   "execution_count": 5,
   "metadata": {},
   "outputs": [
    {
     "data": {
      "text/plain": [
       "(1599,)"
      ]
     },
     "execution_count": 5,
     "metadata": {},
     "output_type": "execute_result"
    }
   ],
   "source": [
    "y.shape"
   ]
  },
  {
   "cell_type": "code",
   "execution_count": 6,
   "metadata": {},
   "outputs": [
    {
     "data": {
      "text/plain": [
       "array([3, 4, 5, 6, 7, 8], dtype=int64)"
      ]
     },
     "execution_count": 6,
     "metadata": {},
     "output_type": "execute_result"
    }
   ],
   "source": [
    "# Analyse des notes possibles pour les vins\n",
    "np.unique(y)"
   ]
  },
  {
   "cell_type": "code",
   "execution_count": 7,
   "metadata": {},
   "outputs": [],
   "source": [
    "# Séparation des données en jeux d'entraînement et de test\n",
    "from sklearn import model_selection\n",
    "X_train, X_test, y_train, y_test = \\\n",
    "model_selection.train_test_split(X, y,\n",
    "                                test_size=0.25 # 25% des données dans le jeu de test\n",
    "                                )"
   ]
  },
  {
   "cell_type": "code",
   "execution_count": 8,
   "metadata": {},
   "outputs": [],
   "source": [
    "# Standardisation des données X\n",
    "from sklearn import preprocessing\n",
    "std_scale = preprocessing.StandardScaler().fit(X_train)\n",
    "X_train = std_scale.transform(X_train)\n",
    "X_test = std_scale.transform(X_test)"
   ]
  },
  {
   "cell_type": "markdown",
   "metadata": {},
   "source": [
    "# Approche naïve"
   ]
  },
  {
   "cell_type": "code",
   "execution_count": 9,
   "metadata": {},
   "outputs": [
    {
     "name": "stdout",
     "output_type": "stream",
     "text": [
      "MSE : 0.6315 ; R² : -0.0067\n"
     ]
    }
   ],
   "source": [
    "# Approche avec prédiction de la valeur moyenne\n",
    "from sklearn import dummy\n",
    "from sklearn.metrics import mean_squared_error, r2_score\n",
    "dum = dummy.DummyRegressor(strategy='mean')\n",
    "\n",
    "# Entraînement\n",
    "dum.fit(X_train, y_train)\n",
    "\n",
    "# Prédiction sur le jeu de test\n",
    "y_pred_dum = dum.predict(X_test)\n",
    "\n",
    "# Evaluate\n",
    "print(\"MSE : %.4f ; R² : %.4f\" % (mean_squared_error(y_test, y_pred_dum), r2_score(y_test, y_pred_dum)))"
   ]
  },
  {
   "cell_type": "code",
   "execution_count": 10,
   "metadata": {},
   "outputs": [
    {
     "name": "stdout",
     "output_type": "stream",
     "text": [
      "MSE : 2.9700 ; R² : -3.7342\n"
     ]
    }
   ],
   "source": [
    "# Approche avec prédiction de valeurs aléatoires\n",
    "y_pred_random = np.random.randint(np.min(y), np.max(y), y_test.shape)\n",
    "print(\"MSE : %.4f ; R² : %.4f\" % (mean_squared_error(y_test, y_pred_random), r2_score(y_test, y_pred_random)))"
   ]
  },
  {
   "cell_type": "markdown",
   "metadata": {},
   "source": [
    "# Fonction GridSearchCV \"manuelle\""
   ]
  },
  {
   "cell_type": "code",
   "execution_count": 11,
   "metadata": {
    "scrolled": true
   },
   "outputs": [
    {
     "name": "stdout",
     "output_type": "stream",
     "text": [
      "============================================================\n",
      "Nombre de voisins : 3\n",
      "Numéro de fold de test : 1\n",
      "MSE = 0.5296 ; R² = 0.1759\n",
      "Numéro de fold de test : 2\n",
      "MSE = 0.5176 ; R² = 0.2410\n",
      "Numéro de fold de test : 3\n",
      "MSE = 0.4995 ; R² = 0.2874\n",
      "Numéro de fold de test : 4\n",
      "MSE = 0.4380 ; R² = 0.2327\n",
      "Numéro de fold de test : 5\n",
      "MSE = 0.5728 ; R² = 0.1763\n",
      "MSE = 0.5115 ; R² = 0.2227\n",
      "============================================================\n",
      "Nombre de voisins : 5\n",
      "Numéro de fold de test : 1\n",
      "MSE = 0.4927 ; R² = 0.2335\n",
      "Numéro de fold de test : 2\n",
      "MSE = 0.4855 ; R² = 0.2880\n",
      "Numéro de fold de test : 3\n",
      "MSE = 0.4667 ; R² = 0.3343\n",
      "Numéro de fold de test : 4\n",
      "MSE = 0.4198 ; R² = 0.2645\n",
      "Numéro de fold de test : 5\n",
      "MSE = 0.5449 ; R² = 0.2163\n",
      "MSE = 0.4819 ; R² = 0.2673\n",
      "============================================================\n",
      "Nombre de voisins : 7\n",
      "Numéro de fold de test : 1\n",
      "MSE = 0.4958 ; R² = 0.2285\n",
      "Numéro de fold de test : 2\n",
      "MSE = 0.4802 ; R² = 0.2958\n",
      "Numéro de fold de test : 3\n",
      "MSE = 0.4572 ; R² = 0.3478\n",
      "Numéro de fold de test : 4\n",
      "MSE = 0.4221 ; R² = 0.2605\n",
      "Numéro de fold de test : 5\n",
      "MSE = 0.4891 ; R² = 0.2966\n",
      "MSE = 0.4689 ; R² = 0.2859\n",
      "============================================================\n",
      "Nombre de voisins : 9\n",
      "Numéro de fold de test : 1\n",
      "MSE = 0.4911 ; R² = 0.2359\n",
      "Numéro de fold de test : 2\n",
      "MSE = 0.4788 ; R² = 0.2979\n",
      "Numéro de fold de test : 3\n",
      "MSE = 0.4521 ; R² = 0.3552\n",
      "Numéro de fold de test : 4\n",
      "MSE = 0.3983 ; R² = 0.3023\n",
      "Numéro de fold de test : 5\n",
      "MSE = 0.4753 ; R² = 0.3164\n",
      "MSE = 0.4591 ; R² = 0.3015\n",
      "============================================================\n",
      "Nombre de voisins : 11\n",
      "Numéro de fold de test : 1\n",
      "MSE = 0.4824 ; R² = 0.2494\n",
      "Numéro de fold de test : 2\n",
      "MSE = 0.4842 ; R² = 0.2899\n",
      "Numéro de fold de test : 3\n",
      "MSE = 0.4580 ; R² = 0.3467\n",
      "Numéro de fold de test : 4\n",
      "MSE = 0.3967 ; R² = 0.3051\n",
      "Numéro de fold de test : 5\n",
      "MSE = 0.4711 ; R² = 0.3225\n",
      "MSE = 0.4585 ; R² = 0.3027\n",
      "============================================================\n",
      "Nombre de voisins : 13\n",
      "Numéro de fold de test : 1\n",
      "MSE = 0.4860 ; R² = 0.2438\n",
      "Numéro de fold de test : 2\n",
      "MSE = 0.4777 ; R² = 0.2994\n",
      "Numéro de fold de test : 3\n",
      "MSE = 0.4690 ; R² = 0.3310\n",
      "Numéro de fold de test : 4\n",
      "MSE = 0.4053 ; R² = 0.2900\n",
      "Numéro de fold de test : 5\n",
      "MSE = 0.4647 ; R² = 0.3317\n",
      "MSE = 0.4605 ; R² = 0.2992\n",
      "============================================================\n",
      "Nombre de voisins : 15\n",
      "Numéro de fold de test : 1\n",
      "MSE = 0.4721 ; R² = 0.2654\n",
      "Numéro de fold de test : 2\n",
      "MSE = 0.4608 ; R² = 0.3243\n",
      "Numéro de fold de test : 3\n",
      "MSE = 0.4660 ; R² = 0.3353\n",
      "Numéro de fold de test : 4\n",
      "MSE = 0.4024 ; R² = 0.2950\n",
      "Numéro de fold de test : 5\n",
      "MSE = 0.4630 ; R² = 0.3342\n",
      "MSE = 0.4529 ; R² = 0.3108\n"
     ]
    },
    {
     "data": {
      "image/png": "[encoded data removed]",
      "text/plain": [
       "<Figure size 432x288 with 2 Axes>"
      ]
     },
     "metadata": {
      "needs_background": "light"
     },
     "output_type": "display_data"
    },
    {
     "name": "stdout",
     "output_type": "stream",
     "text": [
      "============================================================\n",
      "Liste MSE : [0.5114958158995815, 0.48192078103207814, 0.4688939885577662, 0.45911010382767703, 0.4584986802217689, 0.46054999876210057, 0.4528524717185805]\n",
      "Liste R² : [0.2226855628945504, 0.26733132985745073, 0.2858557600171725, 0.3015304408651295, 0.30269688268710526, 0.29918565935174535, 0.3108498324336507]\n",
      "============================================================\n",
      "Meilleur hyperparamètre : 15\n",
      "MSE = 0.4529 ; R² = 0.3108\n"
     ]
    }
   ],
   "source": [
    "from knn_regressor_fonction import Validation_croisee\n",
    "\n",
    "# Choix des hyperparamètres, ici le nombre de voisins :\n",
    "n_neighbors = [3, 5, 7, 9, 11, 13, 15]\n",
    "\n",
    "# Choix du nombre de folds :\n",
    "cv = 5\n",
    "\n",
    "# Renvoi du k-voisins optimal à l'aide de la fonction de validation croisée\n",
    "K_opt = Validation_croisee(X_train, y_train, n_neighbors, cv)"
   ]
  },
  {
   "cell_type": "code",
   "execution_count": 12,
   "metadata": {},
   "outputs": [
    {
     "name": "stdout",
     "output_type": "stream",
     "text": [
      "Meilleur hyperparamètre : 15\n",
      "\n",
      "Sur le jeu de test : MSE = 0.4136 ; R² = 0.3407\n"
     ]
    }
   ],
   "source": [
    "# Test du modèle le plus performant\n",
    "from sklearn.neighbors import KNeighborsRegressor\n",
    "\n",
    "model = KNeighborsRegressor(n_neighbors = K_opt)\n",
    "model.fit(X_train, y_train)\n",
    "\n",
    "y_pred = model.predict(X_test)\n",
    "MSE = mean_squared_error(y_test, y_pred)\n",
    "r2 = r2_score(y_test, y_pred)\n",
    "print(\"Meilleur hyperparamètre : {}\".format(K_opt))\n",
    "print(\"\\nSur le jeu de test : MSE = {:0.4f} ; R² = {:0.4f}\".format(MSE, r2))"
   ]
  },
  {
   "cell_type": "markdown",
   "metadata": {},
   "source": [
    "# Fonction GridsearchCV"
   ]
  },
  {
   "cell_type": "code",
   "execution_count": 13,
   "metadata": {},
   "outputs": [
    {
     "name": "stdout",
     "output_type": "stream",
     "text": [
      "Meilleur(s) hyperparamètre(s) sur le jeu d'entraînement:\n",
      "{'n_neighbors': 15}\n",
      "Résultats de la validation croisée :\n",
      "\tMSE = 0.511 (+/-0.088) for {'n_neighbors': 3}\n",
      "\tMSE = 0.482 (+/-0.081) for {'n_neighbors': 5}\n",
      "\tMSE = 0.469 (+/-0.054) for {'n_neighbors': 7}\n",
      "\tMSE = 0.459 (+/-0.066) for {'n_neighbors': 9}\n",
      "\tMSE = 0.458 (+/-0.065) for {'n_neighbors': 11}\n",
      "\tMSE = 0.461 (+/-0.057) for {'n_neighbors': 13}\n",
      "\tMSE = 0.453 (+/-0.051) for {'n_neighbors': 15}\n"
     ]
    }
   ],
   "source": [
    "from sklearn import model_selection\n",
    "from sklearn import neighbors, metrics\n",
    "from math import *\n",
    "\n",
    "# Fixer les valeurs des hyperparamètres à tester\n",
    "param_grid = {'n_neighbors':[3, 5, 7, 9, 11, 13, 15]}\n",
    "\n",
    "# Choisir un score à optimiser, ici l'accuracy (proportion de prédictions correctes)\n",
    "score = \"neg_mean_squared_error\"\n",
    "\n",
    "# Non randomisation des folds (shuffle est normalement \"False\" par défaut)\n",
    "cv_GridSearch=model_selection.KFold(n_splits=5,shuffle=False)\n",
    "\n",
    "# Créer un classifieur kNN avec recherche d'hyperparamètre par validation croisée\n",
    "clf = model_selection.GridSearchCV(neighbors.KNeighborsRegressor(), # un classifieur kNN\n",
    "param_grid, # hyperparamètres à tester\n",
    "cv=cv_GridSearch, # nombre de folds de validation croisée\n",
    "scoring=score # score à optimiser\n",
    ")\n",
    "\n",
    "# Optimiser ce classifieur sur le jeu d'entraînement\n",
    "clf.fit(X_train, y_train)\n",
    "\n",
    "# Afficher le(s) hyperparamètre(s) optimaux\n",
    "print(\"Meilleur(s) hyperparamètre(s) sur le jeu d'entraînement:\"),\n",
    "print(clf.best_params_)\n",
    "\n",
    "# Afficher les performances correspondantes\n",
    "print(\"Résultats de la validation croisée :\")\n",
    "for mean, std, params in zip(clf.cv_results_['mean_test_score'], # score moyen\n",
    "clf.cv_results_['std_test_score'], # écart-type du score\n",
    "clf.cv_results_['params'] # valeur de l'hyperparamètre\n",
    "):\n",
    "    print(\"\\tMSE = %0.3f (+/-%0.03f) for %r\" % (\n",
    "    abs(mean), # score moyen\n",
    "    std * 2, # barre d'erreur\n",
    "    params # hyperparamètre\n",
    "    ))"
   ]
  },
  {
   "cell_type": "code",
   "execution_count": 14,
   "metadata": {},
   "outputs": [
    {
     "name": "stdout",
     "output_type": "stream",
     "text": [
      "Meilleur hyperparamètre : {'n_neighbors': 15}\n",
      "Sur le jeu de test : MSE = 0.4136\n"
     ]
    }
   ],
   "source": [
    "# Test du modèle le plus performant\n",
    "y_pred = clf.predict(X_test)\n",
    "print(\"Meilleur hyperparamètre : {}\".format(clf.best_params_))\n",
    "mse_cv = metrics.mean_squared_error(y_test, y_pred)\n",
    "print(\"Sur le jeu de test : MSE = {:0.4f}\".format(mse_cv))"
   ]
  },
  {
   "cell_type": "code",
   "execution_count": 15,
   "metadata": {},
   "outputs": [
    {
     "name": "stdout",
     "output_type": "stream",
     "text": [
      "Meilleur(s) hyperparamètre(s) sur le jeu d'entraînement:\n",
      "{'n_neighbors': 15}\n",
      "Résultats de la validation croisée :\n",
      "\tR² = 0.223 (+/-0.085) for {'n_neighbors': 3}\n",
      "\tR² = 0.267 (+/-0.083) for {'n_neighbors': 5}\n",
      "\tR² = 0.286 (+/-0.080) for {'n_neighbors': 7}\n",
      "\tR² = 0.302 (+/-0.077) for {'n_neighbors': 9}\n",
      "\tR² = 0.303 (+/-0.065) for {'n_neighbors': 11}\n",
      "\tR² = 0.299 (+/-0.065) for {'n_neighbors': 13}\n",
      "\tR² = 0.311 (+/-0.054) for {'n_neighbors': 15}\n"
     ]
    }
   ],
   "source": [
    "# Fixer les valeurs des hyperparamètres à tester\n",
    "param_grid = {'n_neighbors':[3, 5, 7, 9, 11, 13, 15]}\n",
    "\n",
    "# Choisir un score à optimiser, ici l'accuracy (proportion de prédictions correctes)\n",
    "score = \"r2\"\n",
    "\n",
    "# Non randomisation des folds (shuffle est normalement \"False\" par défaut)\n",
    "cv_GridSearch=model_selection.KFold(n_splits=5,shuffle=False)\n",
    "\n",
    "# Créer un classifieur kNN avec recherche d'hyperparamètre par validation croisée\n",
    "clf = model_selection.GridSearchCV(neighbors.KNeighborsRegressor(), # un classifieur kNN\n",
    "param_grid, # hyperparamètres à tester\n",
    "cv=cv_GridSearch, # nombre de folds de validation croisée\n",
    "scoring=score # score à optimiser\n",
    ")\n",
    "\n",
    "# Optimiser ce classifieur sur le jeu d'entraînement\n",
    "clf.fit(X_train, y_train)\n",
    "\n",
    "# Afficher le(s) hyperparamètre(s) optimaux\n",
    "print(\"Meilleur(s) hyperparamètre(s) sur le jeu d'entraînement:\"),\n",
    "print(clf.best_params_)\n",
    "\n",
    "# Afficher les performances correspondantes\n",
    "print(\"Résultats de la validation croisée :\")\n",
    "for mean, std, params in zip(clf.cv_results_['mean_test_score'], # score moyen\n",
    "clf.cv_results_['std_test_score'], # écart-type du score\n",
    "clf.cv_results_['params'] # valeur de l'hyperparamètre\n",
    "):\n",
    "    print(\"\\tR² = %0.3f (+/-%0.03f) for %r\" % (\n",
    "    abs(mean), # score moyen\n",
    "    std * 2, # barre d'erreur\n",
    "    params # hyperparamètre\n",
    "    ))"
   ]
  },
  {
   "cell_type": "code",
   "execution_count": 16,
   "metadata": {},
   "outputs": [
    {
     "name": "stdout",
     "output_type": "stream",
     "text": [
      "Meilleur hyperparamètre : {'n_neighbors': 15}\n",
      "Sur le jeu de test : R² = 0.3407\n"
     ]
    }
   ],
   "source": [
    "# Test du modèle le plus performant\n",
    "y_pred = clf.predict(X_test)\n",
    "print(\"Meilleur hyperparamètre : {}\".format(clf.best_params_))\n",
    "r2_cv = metrics.r2_score(y_test, y_pred)\n",
    "print(\"Sur le jeu de test : R² = {:0.4f}\".format(r2_cv))"
   ]
  },
  {
   "cell_type": "code",
   "execution_count": 17,
   "metadata": {},
   "outputs": [
    {
     "name": "stdout",
     "output_type": "stream",
     "text": [
      "Meilleur hyperparamètre : {'n_neighbors': 15}\n",
      "Sur le jeu de test : MSE = 0.4136 ; R² = 0.3407\n"
     ]
    }
   ],
   "source": [
    "# Test du modèle le plus performant / Résumé :\n",
    "print(\"Meilleur hyperparamètre : {}\".format(clf.best_params_))\n",
    "print(\"Sur le jeu de test : MSE = {:0.4f} ; R² = {:0.4f}\".format(mse_cv, r2_cv))"
   ]
  }
 ],
 "metadata": {
  "kernelspec": {
   "display_name": "Python 3",
   "language": "python",
   "name": "python3"
  },
  "language_info": {
   "codemirror_mode": {
    "name": "ipython",
    "version": 3
   },
   "file_extension": ".py",
   "mimetype": "text/x-python",
   "name": "python",
   "nbconvert_exporter": "python",
   "pygments_lexer": "ipython3",
   "version": "3.7.3"
  }
 },
 "nbformat": 4,
 "nbformat_minor": 2
}
